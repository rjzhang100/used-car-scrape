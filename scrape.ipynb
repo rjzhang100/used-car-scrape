{
 "cells": [
  {
   "cell_type": "code",
   "execution_count": 162,
   "metadata": {},
   "outputs": [],
   "source": [
    "from selenium import webdriver \n",
    "from selenium.webdriver.chrome.service import Service \n",
    "from bs4 import BeautifulSoup\n",
    "import re \n",
    "import time \n",
    "import pandas as pd"
   ]
  },
  {
   "cell_type": "code",
   "execution_count": 163,
   "metadata": {},
   "outputs": [],
   "source": [
    "#Start and open the site\n",
    "service = Service('/Users/rayzhang/Desktop/Code/chromedriver') #Insert path here\n",
    "service.start()\n",
    "driver = webdriver.Remote(service.service_url)\n",
    "driver.get('https://www.facebook.com/marketplace/category/vehicles')"
   ]
  },
  {
   "cell_type": "code",
   "execution_count": 164,
   "metadata": {},
   "outputs": [
    {
     "name": "stdout",
     "output_type": "stream",
     "text": [
      "Enter email here: \n",
      "Enter password here: \n"
     ]
    }
   ],
   "source": [
    "#Sign in to Facebook\n",
    "email_field = driver.find_element_by_id(\"email\")\n",
    "pass_field = driver.find_element_by_id(\"pass\")\n",
    "login_button = driver.find_element_by_id(\"loginbutton\")\n",
    "\n",
    "email_in = input(print(\"Enter email here: \"))\n",
    "pass_in = input(print(\"Enter password here: \"))\n",
    "\n",
    "email_field.send_keys(email_in)\n",
    "pass_field.send_keys(pass_in)\n",
    "login_button.click()"
   ]
  },
  {
   "cell_type": "code",
   "execution_count": 172,
   "metadata": {},
   "outputs": [],
   "source": [
    "SCROLL_PAUSE_TIME = 3\n",
    "\n",
    "# Get scroll height\n",
    "last_height = driver.execute_script(\"return document.body.scrollHeight\")\n",
    "while True:\n",
    "    # Scroll down to bottom\n",
    "    driver.execute_script(\"window.scrollTo(0, document.body.scrollHeight);\")\n",
    "    # Wait to load page\n",
    "    time.sleep(SCROLL_PAUSE_TIME)\n",
    "    # Calculate new scroll height and compare with last scroll height\n",
    "    new_height = driver.execute_script(\"return document.body.scrollHeight\")\n",
    "    if new_height == last_height:\n",
    "        break\n",
    "    last_height = new_height"
   ]
  },
  {
   "cell_type": "code",
   "execution_count": 173,
   "metadata": {},
   "outputs": [],
   "source": [
    "soup = BeautifulSoup(driver.page_source)\n",
    "name_class = \"b6ax4al1 lq84ybu9 hf30pyar om3e55n1\"\n",
    "price_class = \"gvxzyvdx aeinzg81 t7p7dqev gh25dzvf tb6i94ri gupuyl1y i2onq4tn b6ax4al1 gem102v4 ncib64c9 mrvwc6qr sx8pxkcf f597kf1v cpcgwwas f5mw3jnl hxfwr5lz hpj0pwwo sggt6rq5 innypi6y pbevjfx6\"\n",
    "location_class_umbrella = \"gvxzyvdx aeinzg81 t7p7dqev gh25dzvf tb6i94ri gupuyl1y i2onq4tn b6ax4al1 gem102v4 ncib64c9 mrvwc6qr sx8pxkcf f597kf1v cpcgwwas f5mw3jnl szxhu1pg nfkogyam kkmhubc1 tes86rjd rtxb060y\"\n",
    "location_class = \"b6ax4al1 lq84ybu9 hf30pyar om3e55n1 oshhggmv qm54mken\"\n",
    "mileage_class = \"b6ax4al1 lq84ybu9 hf30pyar om3e55n1 oshhggmv qm54mken\""
   ]
  },
  {
   "cell_type": "code",
   "execution_count": 174,
   "metadata": {},
   "outputs": [],
   "source": [
    "def has_numbers(string: str) -> bool:\n",
    "    return any(char.isdigit() for char in string)"
   ]
  },
  {
   "cell_type": "code",
   "execution_count": 175,
   "metadata": {},
   "outputs": [],
   "source": [
    "listing_class = \"bdao358l alzwoclg cqf1kptm sl27f92c mmwt03ec s1m0hq7j rj2hsocd mfclru0v qulk4ar7 r0sq1yji\"\n",
    "names = []\n",
    "prices = []\n",
    "locations = []\n",
    "mileages = []\n",
    "\n",
    "for result in soup.find_all(class_ = listing_class):\n",
    "    for name in result.find_all(class_ = name_class):\n",
    "        names.append(name.get_text())\n",
    "    for price in result.find_all(class_ = price_class):\n",
    "        prices.append(price.get_text())\n",
    "    for location in result.find_all(class_ = location_class):\n",
    "        if (not has_numbers(location.get_text())):\n",
    "            locations.append(location.get_text())\n",
    "    for mileage in result.find_all(class_ = mileage_class):\n",
    "        if (has_numbers(mileage.get_text())):\n",
    "            mileages.append(mileage.get_text())\n",
    "        elif (mileage.get_text() == \"\"):\n",
    "            mileages.append(\"\")\n"
   ]
  },
  {
   "cell_type": "code",
   "execution_count": 176,
   "metadata": {},
   "outputs": [],
   "source": [
    "car_data = list(zip(names, prices, locations, mileages))\n",
    "df = pd.DataFrame(car_data, columns = [\"Name\", \"Price\", \"Location\", \"Mileage\"])"
   ]
  },
  {
   "cell_type": "code",
   "execution_count": 183,
   "metadata": {},
   "outputs": [],
   "source": [
    "df.to_csv(\"car_data.csv\")"
   ]
  },
  {
   "cell_type": "code",
   "execution_count": null,
   "metadata": {},
   "outputs": [],
   "source": []
  }
 ],
 "metadata": {
  "kernelspec": {
   "display_name": "Python 3.10.4 ('gilbert')",
   "language": "python",
   "name": "python3"
  },
  "language_info": {
   "codemirror_mode": {
    "name": "ipython",
    "version": 3
   },
   "file_extension": ".py",
   "mimetype": "text/x-python",
   "name": "python",
   "nbconvert_exporter": "python",
   "pygments_lexer": "ipython3",
   "version": "3.10.4"
  },
  "orig_nbformat": 4,
  "vscode": {
   "interpreter": {
    "hash": "f3e0dbdab9ae6bc40b482f579ffcb0969ca4121db67304f38c6d13479eb2c164"
   }
  }
 },
 "nbformat": 4,
 "nbformat_minor": 2
}
