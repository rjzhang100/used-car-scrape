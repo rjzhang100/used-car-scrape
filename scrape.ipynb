{
 "cells": [
  {
   "cell_type": "code",
   "execution_count": 1,
   "metadata": {},
   "outputs": [],
   "source": [
    "from selenium import webdriver \n",
    "from selenium.webdriver.chrome.service import Service \n",
    "from bs4 import BeautifulSoup\n",
    "import time"
   ]
  },
  {
   "cell_type": "code",
   "execution_count": 6,
   "metadata": {},
   "outputs": [],
   "source": [
    "#Start and open the site\n",
    "service = Service('/Users/rayzhang/Desktop/Code/chromedriver') #Insert path here\n",
    "service.start()\n",
    "driver = webdriver.Remote(service.service_url)\n",
    "driver.get('https://www.facebook.com/marketplace/category/vehicles')"
   ]
  },
  {
   "cell_type": "code",
   "execution_count": 7,
   "metadata": {},
   "outputs": [
    {
     "name": "stdout",
     "output_type": "stream",
     "text": [
      "Enter email here: \n",
      "Enter password here: \n"
     ]
    }
   ],
   "source": [
    "#Sign in to Facebook\n",
    "email_field = driver.find_element_by_id(\"email\")\n",
    "pass_field = driver.find_element_by_id(\"pass\")\n",
    "login_button = driver.find_element_by_id(\"loginbutton\")\n",
    "\n",
    "email_in = input(print(\"Enter email here: \"))\n",
    "pass_in = input(print(\"Enter password here: \"))\n",
    "\n",
    "email_field.send_keys(email_in)\n",
    "pass_field.send_keys(pass_in)\n",
    "login_button.click()"
   ]
  },
  {
   "cell_type": "code",
   "execution_count": 8,
   "metadata": {},
   "outputs": [
    {
     "name": "stdout",
     "output_type": "stream",
     "text": [
      "😊\n",
      "2003 Honda civic in Calgary, AB\n",
      "1982 Volkswagen golf rabbit in Calgary, AB\n",
      "1995 Lexus ls400 in Calgary, AB\n",
      "2005 Mazda rx-8 in Calgary, AB\n",
      "2009 Subaru impreza in Calgary, AB\n",
      "2010 Toyota matrix in Calgary, AB\n",
      "2006 Saturn ion in Calgary, AB\n",
      "2008 Acura tl in Calgary, AB\n",
      "2009 Mitsubishi eclipse in Calgary, AB\n",
      "2000 Subaru legacy in Calgary, AB\n",
      "1989 Nissan 240sx in Calgary, AB\n",
      "2021 Tesla y in Calgary, AB\n",
      "2001 Pontiac aztek in Calgary, AB\n",
      "2007 Dodge caravan in Calgary, AB\n",
      "2008 BMW 335xi in Calgary, AB\n",
      "2001 Nissan sentra in Calgary, AB\n",
      "5 x 10 dump trailer $35 per day in Calgary, AB\n",
      "1972 Volkswagen eurovan in Black Diamond, AB\n",
      "2007 BMW in Calgary, AB\n",
      "2003 Sea do sportster le in Rocky View County, AB\n",
      "2009 Audi a4 in Calgary, AB\n",
      "2010 Kawasaki ninja in Rocky View County, AB\n",
      "2018 Ford Transit in Calgary, AB\n",
      "2019 Aprilia rsv4 rr in Calgary, AB\n",
      "\n"
     ]
    }
   ],
   "source": [
    "listings = driver.find_elements_by_tag_name(\"img\")\n",
    "for listing in listings:\n",
    "    print(listing.get_attribute('alt'))"
   ]
  },
  {
   "cell_type": "code",
   "execution_count": 50,
   "metadata": {},
   "outputs": [
    {
     "name": "stdout",
     "output_type": "stream",
     "text": [
      "[<img alt=\"2009 Subaru impreza in Calgary, AB\" class=\"idiwt2bm bixrwtb6 ni8dbmo4 stjgntxs k4urcfbm\" referrerpolicy=\"origin-when-cross-origin\" src=\"https://scontent.fyxd1-1.fna.fbcdn.net/v/t39.30808-6/298943945_160863083189360_8404484170611671097_n.jpg?stp=dst-jpg_p526x296&amp;_nc_cat=109&amp;ccb=1-7&amp;_nc_sid=843cd7&amp;_nc_ohc=lyQNLJxWKqQAX_OgGYh&amp;_nc_ht=scontent.fyxd1-1.fna&amp;oh=00_AT-zZDcxQnS6-4wCgJLirN4orSe2z4q5msSbX-U-uSTpIw&amp;oe=62F90C03\"/>, <img alt=\"2000 Subaru legacy in Calgary, AB\" class=\"idiwt2bm bixrwtb6 ni8dbmo4 stjgntxs k4urcfbm\" referrerpolicy=\"origin-when-cross-origin\" src=\"https://scontent.fyxd1-1.fna.fbcdn.net/v/t39.30808-6/298789577_160865546522447_7164807319476690175_n.jpg?stp=c0.58.526.526a_dst-jpg_p526x296&amp;_nc_cat=103&amp;ccb=1-7&amp;_nc_sid=843cd7&amp;_nc_ohc=-vujRCZuJvAAX8teV4X&amp;_nc_ht=scontent.fyxd1-1.fna&amp;oh=00_AT8H9gGL5__G_TzgjxNB_p_afCv2Nhx80m6fWA8K7BACDA&amp;oe=62F92EF6\"/>, <img alt=\"2004 Ford f-150 in Calgary, AB\" class=\"idiwt2bm bixrwtb6 ni8dbmo4 stjgntxs k4urcfbm\" referrerpolicy=\"origin-when-cross-origin\" src=\"https://scontent.fyxd1-1.fna.fbcdn.net/v/t45.5328-4/296572936_5606859379348364_3070788964081615491_n.jpg?stp=c90.0.540.540a_dst-jpg_p180x540&amp;_nc_cat=103&amp;ccb=1-7&amp;_nc_sid=c48759&amp;_nc_ohc=mW80j-XhRBIAX9ruU40&amp;_nc_ht=scontent.fyxd1-1.fna&amp;oh=00_AT_5LL0WjQDg5v2JMzbxuwnRssT0Ua-jFWLBq7LJ6Y5y8w&amp;oe=62F9BD2F\"/>, <img alt=\"2016 Yamaha yz450f in Airdrie, AB\" class=\"idiwt2bm bixrwtb6 ni8dbmo4 stjgntxs k4urcfbm\" referrerpolicy=\"origin-when-cross-origin\" src=\"https://scontent.fyxd1-1.fna.fbcdn.net/v/t39.30808-6/295983139_1090166361928209_294430342062893420_n.jpg?stp=c0.58.526.526a_dst-jpg_p526x296&amp;_nc_cat=100&amp;ccb=1-7&amp;_nc_sid=843cd7&amp;_nc_ohc=F0UyNBfpwh0AX_o9IIJ&amp;_nc_ht=scontent.fyxd1-1.fna&amp;oh=00_AT-BTO2b5XmOTlGGoP3nqRazhFlx_7jcE23LCNe0ba5PkQ&amp;oe=62FA3794\"/>, <img alt=\"1997 Honda prelude in Chestermere, AB\" class=\"idiwt2bm bixrwtb6 ni8dbmo4 stjgntxs k4urcfbm\" referrerpolicy=\"origin-when-cross-origin\" src=\"https://scontent.fyxd1-1.fna.fbcdn.net/v/t39.30808-6/298542360_571897984619924_7100502848619725485_n.jpg?stp=c0.58.526.526a_dst-jpg_p526x296&amp;_nc_cat=110&amp;ccb=1-7&amp;_nc_sid=843cd7&amp;_nc_ohc=JfkXW32-bIEAX9-okal&amp;_nc_ht=scontent.fyxd1-1.fna&amp;oh=00_AT-53Qd3f429od213rJRuFqvp9aUMbKwDj46Tpbs53quLQ&amp;oe=62F9138F\"/>, <img alt=\"1994 Ferrari truk in Calgary, AB\" class=\"idiwt2bm bixrwtb6 ni8dbmo4 stjgntxs k4urcfbm\" referrerpolicy=\"origin-when-cross-origin\" src=\"https://scontent.fyxd1-1.fna.fbcdn.net/v/t39.30808-6/298247574_169932698896545_1145693516803042293_n.jpg?stp=c0.135.526.526a_dst-jpg_p526x296&amp;_nc_cat=110&amp;ccb=1-7&amp;_nc_sid=843cd7&amp;_nc_ohc=SkUo47TGJKYAX_e9kWn&amp;_nc_ht=scontent.fyxd1-1.fna&amp;oh=00_AT8-wbHJ4e5hUYxcFbt-GmMAW812AlcCIjRgu9fHEJSSUQ&amp;oe=62F8F9BA\"/>, <img alt=\"1989 Nissan 240sx in Calgary, AB\" class=\"idiwt2bm bixrwtb6 ni8dbmo4 stjgntxs k4urcfbm\" referrerpolicy=\"origin-when-cross-origin\" src=\"https://scontent.fyxd1-1.fna.fbcdn.net/v/t39.30808-6/297988602_3296785367272236_216754238197707338_n.jpg?stp=c90.0.540.540a_dst-jpg_p180x540&amp;_nc_cat=105&amp;ccb=1-7&amp;_nc_sid=843cd7&amp;_nc_ohc=KMSvGV73EzAAX-HPKeM&amp;_nc_ht=scontent.fyxd1-1.fna&amp;oh=00_AT9mk0fTtVwxcEmAHYvZ0qzT3rHrA6LHVnwNMkG9cWTf2A&amp;oe=62FA851D\"/>, <img alt=\"2008 BMW 335xi in Calgary, AB\" class=\"idiwt2bm bixrwtb6 ni8dbmo4 stjgntxs k4urcfbm\" referrerpolicy=\"origin-when-cross-origin\" src=\"https://scontent.fyxd1-1.fna.fbcdn.net/v/t39.30808-6/298764313_437243601794298_4243947593698977154_n.jpg?stp=c90.0.540.540a_dst-jpg_p180x540&amp;_nc_cat=102&amp;ccb=1-7&amp;_nc_sid=843cd7&amp;_nc_ohc=LbL5ssq1twcAX9VtOhx&amp;_nc_ht=scontent.fyxd1-1.fna&amp;oh=00_AT_Mp_M09K49666GfKJciTTkQhuSqwNrbdce_gFmS3ci5A&amp;oe=62F8AD29\"/>, <img alt=\"2001 Nissan sentra in Calgary, AB\" class=\"idiwt2bm bixrwtb6 ni8dbmo4 stjgntxs k4urcfbm\" referrerpolicy=\"origin-when-cross-origin\" src=\"https://scontent.fyxd1-1.fna.fbcdn.net/v/t39.30808-6/298386997_899087944382132_8078712799386108751_n.jpg?stp=c90.0.540.540a_dst-jpg_p180x540&amp;_nc_cat=100&amp;ccb=1-7&amp;_nc_sid=843cd7&amp;_nc_ohc=Y2OsQv0dTPoAX_p8y0t&amp;_nc_ht=scontent.fyxd1-1.fna&amp;oh=00_AT_fab6uua31gXNGIC1wn0kDLIAb4DBKuhOpoBshrjmrAg&amp;oe=62FA30AD\"/>, <img alt=\"2015 Nissan micra in Calgary, AB\" class=\"idiwt2bm bixrwtb6 ni8dbmo4 stjgntxs k4urcfbm\" referrerpolicy=\"origin-when-cross-origin\" src=\"https://scontent.fyxd1-1.fna.fbcdn.net/v/t39.30808-6/294798012_877399533648898_435738083972534182_n.jpg?stp=c0.58.526.526a_dst-jpg_p526x296&amp;_nc_cat=100&amp;ccb=1-7&amp;_nc_sid=843cd7&amp;_nc_ohc=P0r_PrkXQSMAX8j14L4&amp;_nc_ht=scontent.fyxd1-1.fna&amp;oh=00_AT9lJtNwLxYlvgkl5km0KQgcKVv0dwLa5ytW5owAMuUdOQ&amp;oe=62F9CBEE\"/>, <img alt=\"2009 Audi a4 in Calgary, AB\" class=\"idiwt2bm bixrwtb6 ni8dbmo4 stjgntxs k4urcfbm\" referrerpolicy=\"origin-when-cross-origin\" src=\"https://scontent.fyxd1-1.fna.fbcdn.net/v/t45.5328-4/292188796_5642398489103582_591150355209817312_n.jpg?stp=c90.0.540.540a_dst-jpg_p180x540&amp;_nc_cat=111&amp;ccb=1-7&amp;_nc_sid=c48759&amp;_nc_ohc=0kM63Yf2tJEAX8z_pFo&amp;_nc_ht=scontent.fyxd1-1.fna&amp;oh=00_AT_vNl4EaDWO4g2can7lcUQoMEmlgTKYClas0IDFM0xcIA&amp;oe=62F9833C\"/>, <img alt=\"2004 Honda cr-v in Calgary, AB\" class=\"idiwt2bm bixrwtb6 ni8dbmo4 stjgntxs k4urcfbm\" referrerpolicy=\"origin-when-cross-origin\" src=\"https://scontent.fyxd1-1.fna.fbcdn.net/v/t39.30808-6/296237692_2260607947424697_6552565375023434770_n.jpg?stp=c90.0.540.540a_dst-jpg_p180x540&amp;_nc_cat=101&amp;ccb=1-7&amp;_nc_sid=843cd7&amp;_nc_ohc=mxidQmSKFgEAX_4W4Tn&amp;_nc_ht=scontent.fyxd1-1.fna&amp;oh=00_AT-y8tyXno-wwAoblpwbUc4jm0bUcXW0eNwyxXapVzYTGg&amp;oe=62F97714\"/>, <img alt=\"2014 Skyline nomad in Calgary, AB\" class=\"idiwt2bm bixrwtb6 ni8dbmo4 stjgntxs k4urcfbm\" referrerpolicy=\"origin-when-cross-origin\" src=\"https://scontent.fyxd1-1.fna.fbcdn.net/v/t39.30808-6/296766880_10228173792828944_3058188428369638592_n.jpg?stp=c314.0.540.540a_dst-jpg_p180x540&amp;_nc_cat=109&amp;ccb=1-7&amp;_nc_sid=843cd7&amp;_nc_ohc=64vmifYlVngAX9j-M7L&amp;_nc_oc=AQmt-W9ebc2CFFvGBPJw4kTIlYS0j3KmXmVRkV5eUewVNJoH27IwbTtti6mSq6T3leM&amp;_nc_ht=scontent.fyxd1-1.fna&amp;oh=00_AT98ZKDwHI75OHxT-VKip8a4YNvZkq3PCGv7JCmn26zvkA&amp;oe=62F942E7\"/>, <img alt=\"2010 Hyundai accent in Calgary, AB\" class=\"idiwt2bm bixrwtb6 ni8dbmo4 stjgntxs k4urcfbm\" referrerpolicy=\"origin-when-cross-origin\" src=\"https://scontent.fyxd1-1.fna.fbcdn.net/v/t39.30808-6/297760650_10227628850323421_3991807543693188912_n.jpg?stp=c82.0.540.540a_dst-jpg_p180x540&amp;_nc_cat=107&amp;ccb=1-7&amp;_nc_sid=843cd7&amp;_nc_ohc=KBU2orW1XZsAX9sauto&amp;_nc_ht=scontent.fyxd1-1.fna&amp;oh=00_AT-hYwdS-A7hk8FVh6421G7SSi_3YXiequ_GZ5aesBx_vQ&amp;oe=62F96E47\"/>, <img alt=\"2004 Mercedes-Benz sprinter in Calgary, AB\" class=\"idiwt2bm bixrwtb6 ni8dbmo4 stjgntxs k4urcfbm\" referrerpolicy=\"origin-when-cross-origin\" src=\"https://scontent.fyxd1-1.fna.fbcdn.net/v/t45.5328-4/296445266_5268993783194705_5868700474209501801_n.jpg?stp=c90.0.540.540a_dst-jpg_p180x540&amp;_nc_cat=107&amp;ccb=1-7&amp;_nc_sid=c48759&amp;_nc_ohc=M2ILg_nhqEcAX_3FzfR&amp;_nc_ht=scontent.fyxd1-1.fna&amp;oh=00_AT95AdOHsWLb1DEAQc0mNRJbzxuDczgWYRUYuXtGgu9Wqw&amp;oe=62F9778B\"/>, <img alt=\"2005 Toyota camry in Calgary, AB\" class=\"idiwt2bm bixrwtb6 ni8dbmo4 stjgntxs k4urcfbm\" referrerpolicy=\"origin-when-cross-origin\" src=\"https://scontent.fyxd1-1.fna.fbcdn.net/v/t45.5328-4/295848040_5513318215356932_4853796225719527874_n.jpg?stp=c0.80.480.480a_dst-jpg&amp;_nc_cat=111&amp;ccb=1-7&amp;_nc_sid=c48759&amp;_nc_ohc=pusbzzxVlfYAX8Hg3Eh&amp;_nc_ht=scontent.fyxd1-1.fna&amp;oh=00_AT9_PG8NSDcs15Tc0Ja0HD1GmhNUbH35e_aaI3PaSdV0ug&amp;oe=62F9A5C4\"/>, <img alt=\"2011 Dodge charger in Calgary, AB\" class=\"idiwt2bm bixrwtb6 ni8dbmo4 stjgntxs k4urcfbm\" referrerpolicy=\"origin-when-cross-origin\" src=\"https://scontent.fyxd1-1.fna.fbcdn.net/v/t39.30808-6/298516153_133054546096929_1383590304006948316_n.jpg?stp=c0.58.526.526a_dst-jpg_p526x296&amp;_nc_cat=111&amp;ccb=1-7&amp;_nc_sid=843cd7&amp;_nc_ohc=f13P1vaSuuoAX_uIDn8&amp;_nc_ht=scontent.fyxd1-1.fna&amp;oh=00_AT-S7STkJISvx8d72OZ0dDRlE_Ijq09JL59388h_BzuH8Q&amp;oe=62F89E8C\"/>, <img alt=\"1979 Dutchmen other in Calgary, AB\" class=\"idiwt2bm bixrwtb6 ni8dbmo4 stjgntxs k4urcfbm\" referrerpolicy=\"origin-when-cross-origin\" src=\"https://scontent.fyxd1-1.fna.fbcdn.net/v/t39.30808-6/298675938_7817435358330559_1111423964953253018_n.jpg?stp=c0.202.526.526a_dst-jpg_p526x296&amp;_nc_cat=101&amp;ccb=1-7&amp;_nc_sid=843cd7&amp;_nc_ohc=1mfCEAEXsYYAX_svX-1&amp;_nc_ht=scontent.fyxd1-1.fna&amp;oh=00_AT8B-RB4u1lWPcDBQhhY33-IiRtq-aeoHvCgLKTeECaRWw&amp;oe=62F90AD3\"/>, <img alt=\"2021 Honda accord in Calgary, AB\" class=\"idiwt2bm bixrwtb6 ni8dbmo4 stjgntxs k4urcfbm\" referrerpolicy=\"origin-when-cross-origin\" src=\"https://scontent.fyxd1-1.fna.fbcdn.net/v/t39.30808-6/297518111_3239730956274517_3966863404262285513_n.jpg?stp=c90.0.540.540a_dst-jpg_p180x540&amp;_nc_cat=100&amp;ccb=1-7&amp;_nc_sid=843cd7&amp;_nc_ohc=LGiuS4d0ISEAX-qsyLj&amp;_nc_ht=scontent.fyxd1-1.fna&amp;oh=00_AT_8wj5ylVqjoRyTvrF3VQZky6v3DnSR3z0aslP2QDgTWw&amp;oe=62F8BBC3\"/>, <img alt=\"2007 BMW series 3 in Calgary, AB\" class=\"idiwt2bm bixrwtb6 ni8dbmo4 stjgntxs k4urcfbm\" referrerpolicy=\"origin-when-cross-origin\" src=\"https://scontent.fyxd1-1.fna.fbcdn.net/v/t39.30808-6/297197161_5334520719971805_8393715063235215325_n.jpg?stp=c90.0.540.540a_dst-jpg_p180x540&amp;_nc_cat=110&amp;ccb=1-7&amp;_nc_sid=843cd7&amp;_nc_ohc=825Wjbx1Wh4AX_5S5Rx&amp;_nc_ht=scontent.fyxd1-1.fna&amp;oh=00_AT_rSps_EmgKdr4iPClvyShQ7rxLgM8DPT44O8nSmqXm3Q&amp;oe=62F9274F\"/>, <img alt=\"2002 Oldsmobile aurora V8 Sedan 4D in Calgary, AB\" class=\"idiwt2bm bixrwtb6 ni8dbmo4 stjgntxs k4urcfbm\" referrerpolicy=\"origin-when-cross-origin\" src=\"https://scontent.fyxd1-1.fna.fbcdn.net/v/t45.5328-4/296132527_8563425587016385_16672979118023194_n.jpg?stp=c0.87.526.526a_dst-jpg_p526x395&amp;_nc_cat=105&amp;ccb=1-7&amp;_nc_sid=c48759&amp;_nc_ohc=Li39aNVfD6MAX9c6f3T&amp;_nc_ht=scontent.fyxd1-1.fna&amp;oh=00_AT9ef5_fhkHgAZ1U7iFJPGvZfzLBcbmsNWYpbVplnuN85w&amp;oe=62F953E9\"/>, <img alt=\"1995 Ford mustang in Calgary, AB\" class=\"idiwt2bm bixrwtb6 ni8dbmo4 stjgntxs k4urcfbm\" referrerpolicy=\"origin-when-cross-origin\" src=\"https://scontent.fyxd1-1.fna.fbcdn.net/v/t39.30808-6/298921087_5398537996859925_4983547892702234770_n.jpg?stp=c90.0.540.540a_dst-jpg_p180x540&amp;_nc_cat=108&amp;ccb=1-7&amp;_nc_sid=843cd7&amp;_nc_ohc=Y76UC4EfVD8AX83J3iJ&amp;_nc_ht=scontent.fyxd1-1.fna&amp;oh=00_AT_S7a6RdWX_zKcDkGcV9ue79cIYuxiLcmhqm7EA1f83zw&amp;oe=62F8EF32\"/>, <img alt=\"2010 BMW x6 in Calgary, AB\" class=\"idiwt2bm bixrwtb6 ni8dbmo4 stjgntxs k4urcfbm\" referrerpolicy=\"origin-when-cross-origin\" src=\"https://scontent.fyxd1-1.fna.fbcdn.net/v/t39.30808-6/297485568_1756457274692876_5880068738810899282_n.jpg?stp=c90.0.540.540a_dst-jpg_p180x540&amp;_nc_cat=106&amp;ccb=1-7&amp;_nc_sid=843cd7&amp;_nc_ohc=lLbm1TEU4XMAX9HMsrw&amp;_nc_ht=scontent.fyxd1-1.fna&amp;oh=00_AT-a7VD3RJiaU4RL9qB73fwfu2imlQ07Dr1lZPsQ5rnPlQ&amp;oe=62F98E69\"/>, <img alt=\"2003 Toyota corolla in Calgary, AB\" class=\"idiwt2bm bixrwtb6 ni8dbmo4 stjgntxs k4urcfbm\" referrerpolicy=\"origin-when-cross-origin\" src=\"https://scontent.fyxd1-1.fna.fbcdn.net/v/t39.30808-6/298916709_173229245198492_3087495088395831310_n.jpg?stp=c0.22.526.526a_dst-jpg_p526x296&amp;_nc_cat=106&amp;ccb=1-7&amp;_nc_sid=843cd7&amp;_nc_ohc=5fLt9TDd_lgAX_XiasL&amp;_nc_ht=scontent.fyxd1-1.fna&amp;oh=00_AT-45Z-xOamsQDGAX8YqZIuJ42gfe-Ma-jAsiz5qbqGTyA&amp;oe=62F8ECB5\"/>, <img class=\"k4urcfbm idiwt2bm kzx2olss aot14ch1 p86d2i9g beltcj47\" src=\"data:image/png;base64,iVBORw0KGgoAAAANSUhEUgAAAOEAAADhCAMAAAAJbSJIAAAAA1BMVEX///+nxBvIAAAASElEQVR4nO3BgQAAAADDoPlTX+AIVQEAAAAAAAAAAAAAAAAAAAAAAAAAAAAAAAAAAAAAAAAAAAAAAAAAAAAAAAAAAAAAAADwDcaiAAFXD1ujAAAAAElFTkSuQmCC\"/>]\n"
     ]
    },
    {
     "data": {
      "text/plain": [
       "bs4.element.ResultSet"
      ]
     },
     "execution_count": 50,
     "metadata": {},
     "output_type": "execute_result"
    }
   ],
   "source": [
    "\n"
   ]
  },
  {
   "cell_type": "code",
   "execution_count": null,
   "metadata": {},
   "outputs": [],
   "source": []
  }
 ],
 "metadata": {
  "kernelspec": {
   "display_name": "Python 3.10.4 ('gilb')",
   "language": "python",
   "name": "python3"
  },
  "language_info": {
   "codemirror_mode": {
    "name": "ipython",
    "version": 3
   },
   "file_extension": ".py",
   "mimetype": "text/x-python",
   "name": "python",
   "nbconvert_exporter": "python",
   "pygments_lexer": "ipython3",
   "version": "3.10.4"
  },
  "orig_nbformat": 4,
  "vscode": {
   "interpreter": {
    "hash": "36f6246245ba9c53135c5893aa1bba3aa0227aa16e67cb81a93965f4724af0c0"
   }
  }
 },
 "nbformat": 4,
 "nbformat_minor": 2
}
